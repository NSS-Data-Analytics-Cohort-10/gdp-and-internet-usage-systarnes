{
 "cells": [
  {
   "cell_type": "code",
   "execution_count": 1,
   "id": "a7ebd075",
   "metadata": {},
   "outputs": [],
   "source": [
    "import pandas as pd\n"
   ]
  },
  {
   "cell_type": "markdown",
   "id": "b76cbece",
   "metadata": {},
   "source": [
    "#3 Import the required packages with their customary aliases\n"
   ]
  },
  {
   "cell_type": "code",
   "execution_count": 2,
   "id": "037a40a2",
   "metadata": {},
   "outputs": [],
   "source": [
    "import numpy as np\n"
   ]
  },
  {
   "cell_type": "code",
   "execution_count": 3,
   "id": "0e65a140",
   "metadata": {},
   "outputs": [],
   "source": [
    "import matplotlib.pyplot as plt"
   ]
  },
  {
   "cell_type": "code",
   "execution_count": 4,
   "id": "a81be80e",
   "metadata": {},
   "outputs": [],
   "source": [
    "import seaborn as sns"
   ]
  },
  {
   "cell_type": "markdown",
   "id": "32b43b03",
   "metadata": {},
   "source": [
    "import seaborn as sns"
   ]
  },
  {
   "cell_type": "code",
   "execution_count": 5,
   "id": "f2d1ff3e",
   "metadata": {},
   "outputs": [
    {
     "data": {
      "text/plain": [
       "'import pandas as pd'"
      ]
     },
     "execution_count": 5,
     "metadata": {},
     "output_type": "execute_result"
    }
   ],
   "source": [
    "'import pandas as pd'"
   ]
  },
  {
   "cell_type": "code",
   "execution_count": 6,
   "id": "fd838416",
   "metadata": {},
   "outputs": [
    {
     "data": {
      "text/plain": [
       "'import numpy as np'"
      ]
     },
     "execution_count": 6,
     "metadata": {},
     "output_type": "execute_result"
    }
   ],
   "source": [
    "'import numpy as np'"
   ]
  },
  {
   "cell_type": "code",
   "execution_count": 7,
   "id": "9bed8645",
   "metadata": {},
   "outputs": [
    {
     "data": {
      "text/plain": [
       "'import matplotlib.pyplot as plt'"
      ]
     },
     "execution_count": 7,
     "metadata": {},
     "output_type": "execute_result"
    }
   ],
   "source": [
    "'import matplotlib.pyplot as plt'\n"
   ]
  },
  {
   "cell_type": "code",
   "execution_count": 8,
   "id": "7413e340",
   "metadata": {},
   "outputs": [
    {
     "data": {
      "text/plain": [
       "'import seaborn as sns'"
      ]
     },
     "execution_count": 8,
     "metadata": {},
     "output_type": "execute_result"
    }
   ],
   "source": [
    "'import seaborn as sns'"
   ]
  },
  {
   "cell_type": "code",
   "execution_count": 9,
   "id": "96ced13a",
   "metadata": {},
   "outputs": [],
   "source": [
    "import pandas as pd\n",
    "import numpy as np\n",
    "import matplotlib.pyplot as plt\n",
    "import seaborn as sns"
   ]
  },
  {
   "cell_type": "code",
   "execution_count": 10,
   "id": "1a0c8d6a",
   "metadata": {},
   "outputs": [
    {
     "data": {
      "text/plain": [
       "'import seaborn as sns'"
      ]
     },
     "execution_count": 10,
     "metadata": {},
     "output_type": "execute_result"
    }
   ],
   "source": [
    "'import pandas as pd'\n",
    "'import numpy as np'\n",
    "'import matplotlib.pyplot as plt'\n",
    "'import seaborn as sns'"
   ]
  },
  {
   "cell_type": "code",
   "execution_count": 11,
   "id": "1272f682",
   "metadata": {},
   "outputs": [
    {
     "data": {
      "text/plain": [
       "'import pandas as pd'"
      ]
     },
     "execution_count": 11,
     "metadata": {},
     "output_type": "execute_result"
    }
   ],
   "source": [
    "'import pandas as pd'"
   ]
  },
  {
   "cell_type": "markdown",
   "id": "e83b52f1",
   "metadata": {},
   "source": [
    "#4A Using the pandas `read_csv()` method, read the GDP dataset into your notebook as a DataFrame called `gdp_df\n",
    "(this returned an error, corrected my datapath)"
   ]
  },
  {
   "cell_type": "code",
   "execution_count": null,
   "id": "35e3e5bc",
   "metadata": {},
   "outputs": [],
   "source": [
    "gdp_df = pd.read_csv(\"gdp_percapita.csv\") "
   ]
  },
  {
   "cell_type": "code",
   "execution_count": null,
   "id": "1088c5fc",
   "metadata": {},
   "outputs": [],
   "source": [
    "gdp_df = pd.read_csv('../data/gdp_percapita.csv')"
   ]
  },
  {
   "cell_type": "code",
   "execution_count": null,
   "id": "885acbde",
   "metadata": {},
   "outputs": [],
   "source": [
    "gdp_df.info() (checked to make sure was correct)"
   ]
  },
  {
   "cell_type": "code",
   "execution_count": null,
   "id": "bf6e5a7f",
   "metadata": {},
   "outputs": [],
   "source": [
    "import pandas as pd\n",
    "import numpy as np\n",
    "import matplotlib.pyplot as plt\n",
    "import seaborn as sns\n",
    "\n",
    "%matplotlib inline"
   ]
  },
  {
   "cell_type": "code",
   "execution_count": null,
   "id": "54e952f6",
   "metadata": {},
   "outputs": [],
   "source": [
    "gdp_df.head() (first few rows)"
   ]
  },
  {
   "cell_type": "code",
   "execution_count": null,
   "id": "1b5e4f89",
   "metadata": {},
   "outputs": [],
   "source": [
    "gdp_df.tail() (last few rows)"
   ]
  },
  {
   "cell_type": "markdown",
   "id": "96c1a12c",
   "metadata": {},
   "source": [
    "#6 Drop the value footnotes column and rename the remaining three to country, year and gdp_per-capita\n"
   ]
  },
  {
   "cell_type": "code",
   "execution_count": null,
   "id": "2648ed00",
   "metadata": {},
   "outputs": [],
   "source": [
    "gdp_df = gdp_df.drop(columns = ['Value Footnotes'])"
   ]
  },
  {
   "cell_type": "code",
   "execution_count": null,
   "id": "c4ba617a",
   "metadata": {},
   "outputs": [],
   "source": []
  },
  {
   "cell_type": "code",
   "execution_count": null,
   "id": "3e8b9270",
   "metadata": {},
   "outputs": [],
   "source": []
  }
 ],
 "metadata": {
  "kernelspec": {
   "display_name": "Python 3 (ipykernel)",
   "language": "python",
   "name": "python3"
  },
  "language_info": {
   "codemirror_mode": {
    "name": "ipython",
    "version": 3
   },
   "file_extension": ".py",
   "mimetype": "text/x-python",
   "name": "python",
   "nbconvert_exporter": "python",
   "pygments_lexer": "ipython3",
   "version": "3.11.4"
  }
 },
 "nbformat": 4,
 "nbformat_minor": 5
}
